{
  "nbformat": 4,
  "nbformat_minor": 0,
  "metadata": {
    "orig_nbformat": 4,
    "language_info": {
      "name": "python",
      "version": "3.9.4",
      "mimetype": "text/x-python",
      "codemirror_mode": {
        "name": "ipython",
        "version": 3
      },
      "pygments_lexer": "ipython3",
      "nbconvert_exporter": "python",
      "file_extension": ".py"
    },
    "kernelspec": {
      "name": "python3",
      "display_name": "Python 3.9.4 64-bit"
    },
    "interpreter": {
      "hash": "63fd5069d213b44bf678585dea6b12cceca9941eaf7f819626cde1f2670de90d"
    },
    "colab": {
      "name": "medicalDataVisualizer.ipynb",
      "provenance": []
    }
  },
  "cells": [
    {
      "cell_type": "code",
      "metadata": {
        "id": "T0hO2tNV-xbq",
        "outputId": "28195c49-c791-4e0f-a86a-0fc1d65433ff",
        "colab": {
          "base_uri": "https://localhost:8080/",
          "height": 204
        }
      },
      "source": [
        "# import numpy and pandas\n",
        "import numpy as np\n",
        "import pandas as pd\n",
        "import seaborn as sns \n",
        "import matplotlib.pyplot as plt\n",
        "\n",
        "# read data from file\n",
        "filePath = 'medical_examination.csv'\n",
        "df = pd.read_csv(filePath)\n",
        "df.head()\n",
        "    "
      ],
      "execution_count": 4,
      "outputs": [
        {
          "output_type": "execute_result",
          "data": {
            "text/html": [
              "<div>\n",
              "<style scoped>\n",
              "    .dataframe tbody tr th:only-of-type {\n",
              "        vertical-align: middle;\n",
              "    }\n",
              "\n",
              "    .dataframe tbody tr th {\n",
              "        vertical-align: top;\n",
              "    }\n",
              "\n",
              "    .dataframe thead th {\n",
              "        text-align: right;\n",
              "    }\n",
              "</style>\n",
              "<table border=\"1\" class=\"dataframe\">\n",
              "  <thead>\n",
              "    <tr style=\"text-align: right;\">\n",
              "      <th></th>\n",
              "      <th>id</th>\n",
              "      <th>age</th>\n",
              "      <th>gender</th>\n",
              "      <th>height</th>\n",
              "      <th>weight</th>\n",
              "      <th>ap_hi</th>\n",
              "      <th>ap_lo</th>\n",
              "      <th>cholesterol</th>\n",
              "      <th>gluc</th>\n",
              "      <th>smoke</th>\n",
              "      <th>alco</th>\n",
              "      <th>active</th>\n",
              "      <th>cardio</th>\n",
              "    </tr>\n",
              "  </thead>\n",
              "  <tbody>\n",
              "    <tr>\n",
              "      <th>0</th>\n",
              "      <td>0</td>\n",
              "      <td>18393</td>\n",
              "      <td>2</td>\n",
              "      <td>168</td>\n",
              "      <td>62.0</td>\n",
              "      <td>110</td>\n",
              "      <td>80</td>\n",
              "      <td>1</td>\n",
              "      <td>1</td>\n",
              "      <td>0</td>\n",
              "      <td>0</td>\n",
              "      <td>1</td>\n",
              "      <td>0</td>\n",
              "    </tr>\n",
              "    <tr>\n",
              "      <th>1</th>\n",
              "      <td>1</td>\n",
              "      <td>20228</td>\n",
              "      <td>1</td>\n",
              "      <td>156</td>\n",
              "      <td>85.0</td>\n",
              "      <td>140</td>\n",
              "      <td>90</td>\n",
              "      <td>3</td>\n",
              "      <td>1</td>\n",
              "      <td>0</td>\n",
              "      <td>0</td>\n",
              "      <td>1</td>\n",
              "      <td>1</td>\n",
              "    </tr>\n",
              "    <tr>\n",
              "      <th>2</th>\n",
              "      <td>2</td>\n",
              "      <td>18857</td>\n",
              "      <td>1</td>\n",
              "      <td>165</td>\n",
              "      <td>64.0</td>\n",
              "      <td>130</td>\n",
              "      <td>70</td>\n",
              "      <td>3</td>\n",
              "      <td>1</td>\n",
              "      <td>0</td>\n",
              "      <td>0</td>\n",
              "      <td>0</td>\n",
              "      <td>1</td>\n",
              "    </tr>\n",
              "    <tr>\n",
              "      <th>3</th>\n",
              "      <td>3</td>\n",
              "      <td>17623</td>\n",
              "      <td>2</td>\n",
              "      <td>169</td>\n",
              "      <td>82.0</td>\n",
              "      <td>150</td>\n",
              "      <td>100</td>\n",
              "      <td>1</td>\n",
              "      <td>1</td>\n",
              "      <td>0</td>\n",
              "      <td>0</td>\n",
              "      <td>1</td>\n",
              "      <td>1</td>\n",
              "    </tr>\n",
              "    <tr>\n",
              "      <th>4</th>\n",
              "      <td>4</td>\n",
              "      <td>17474</td>\n",
              "      <td>1</td>\n",
              "      <td>156</td>\n",
              "      <td>56.0</td>\n",
              "      <td>100</td>\n",
              "      <td>60</td>\n",
              "      <td>1</td>\n",
              "      <td>1</td>\n",
              "      <td>0</td>\n",
              "      <td>0</td>\n",
              "      <td>0</td>\n",
              "      <td>0</td>\n",
              "    </tr>\n",
              "  </tbody>\n",
              "</table>\n",
              "</div>"
            ],
            "text/plain": [
              "   id    age  gender  height  weight  ...  gluc  smoke  alco  active  cardio\n",
              "0   0  18393       2     168    62.0  ...     1      0     0       1       0\n",
              "1   1  20228       1     156    85.0  ...     1      0     0       1       1\n",
              "2   2  18857       1     165    64.0  ...     1      0     0       0       1\n",
              "3   3  17623       2     169    82.0  ...     1      0     0       1       1\n",
              "4   4  17474       1     156    56.0  ...     1      0     0       0       0\n",
              "\n",
              "[5 rows x 13 columns]"
            ]
          },
          "metadata": {
            "tags": []
          },
          "execution_count": 4
        }
      ]
    },
    {
      "cell_type": "code",
      "metadata": {
        "id": "8wFbPwKn-xbt"
      },
      "source": [
        "# DETERMINE OVERWEIGHT STATUS\n",
        "\n",
        "# make function to determine if patient is overweight\n",
        "def overweight(row):\n",
        "    weight = row['weight']\n",
        "    height = row['height']\n",
        "    # convert height to meters\n",
        "    height = height / 100\n",
        "    # calculate BMI\n",
        "    BMI = weight / (height ** 2)\n",
        "    # determine if patient is overweight\n",
        "    if(BMI > 25):\n",
        "        return 1\n",
        "    else:\n",
        "        return 0\n",
        "\n",
        "# add overweight column to data\n",
        "df['overweight'] = df.apply(lambda row: overweight(row), axis = 1)\n",
        "# df.head(12)"
      ],
      "execution_count": 5,
      "outputs": []
    },
    {
      "cell_type": "code",
      "metadata": {
        "id": "pa6OEW7S-xbu"
      },
      "source": [
        "# NORMALIZE DATA\n",
        "\n",
        "# if cholesterol or gluc = 1, make it 0\n",
        "df.loc[df.gluc == 1, \"gluc\"] = 0\n",
        "df.loc[df.cholesterol == 1, \"cholesterol\"] = 0\n",
        "\n",
        "# if cholesterol or gluc > 1, make it 1\n",
        "df.loc[df.gluc > 1, \"gluc\"] = 1\n",
        "df.loc[df.cholesterol > 1, \"cholesterol\"] = 1\n",
        "\n",
        "# df.head(12)\n"
      ],
      "execution_count": 6,
      "outputs": []
    },
    {
      "cell_type": "code",
      "metadata": {
        "id": "u0dYsvHp-xbu"
      },
      "source": [
        "# slice dataframe to select columns rightward from cholesterol \n",
        "df_slice = df.iloc[:, df.columns.get_loc(\"cholesterol\"):]\n",
        "# convert data into long format with cardio as pivot\n",
        "df_long_format = pd.melt(df_slice, id_vars=['cardio'])\n",
        "df_long_format = df_long_format.sort_values(by = 'variable')\n",
        "# print(df_long_format)"
      ],
      "execution_count": 7,
      "outputs": []
    },
    {
      "cell_type": "code",
      "metadata": {
        "id": "vhzLuNda-xbv",
        "outputId": "2edf4537-f70e-4316-b140-46857da301ea",
        "colab": {
          "base_uri": "https://localhost:8080/",
          "height": 401
        }
      },
      "source": [
        "# plot data with seaborn, use cardio as chart-splitter\n",
        "medDataPlt = sns.catplot(data=df_long_format, x=\"variable\", hue=\"value\", col=\"cardio\", kind=\"count\")\n",
        "medDataPlt.set_axis_labels(\"variable\", \"total\")"
      ],
      "execution_count": 8,
      "outputs": [
        {
          "output_type": "execute_result",
          "data": {
            "text/plain": [
              "<seaborn.axisgrid.FacetGrid at 0x7fd74ba0f950>"
            ]
          },
          "metadata": {
            "tags": []
          },
          "execution_count": 8
        },
        {
          "output_type": "display_data",
          "data": {
            "image/png": "[encoded data removed]",
            "text/plain": [
              "<Figure size 762.375x360 with 2 Axes>"
            ]
          },
          "metadata": {
            "tags": [],
            "needs_background": "light"
          }
        }
      ]
    },
    {
      "cell_type": "code",
      "metadata": {
        "id": "Xd5bkTa6-xbv"
      },
      "source": [
        "# CLEAN DATA\n",
        "\n",
        "# remove patients with diastolic pressure higher than systolic\n",
        "clean_df = df[df['ap_lo'] <= df['ap_hi']]\n",
        "# print(clean_df.shape)\n",
        "\n",
        "# remove patients with height less than the 2.5th percentile\n",
        "clean_df = clean_df[clean_df['height'] >= clean_df['height'].quantile(0.025)]\n",
        "# print(clean_df.shape)\n",
        "\n",
        "# remove patients with height more than the 97.5th percentile\n",
        "clean_df = clean_df[clean_df['height'] <= clean_df['height'].quantile(0.975)]\n",
        "# print(clean_df.shape)\n",
        "\n",
        "# remove patients with weight less than the 2.5th percentile\n",
        "clean_df = clean_df[clean_df['weight'] >= clean_df['weight'].quantile(0.025)]\n",
        "# print(clean_df.shape)\n",
        "\n",
        "# remove patients with weight more than the 97.5th percentile\n",
        "clean_df = clean_df[clean_df['weight'] <= clean_df['weight'].quantile(0.975)]\n",
        "# print(clean_df.shape)"
      ],
      "execution_count": 9,
      "outputs": []
    },
    {
      "cell_type": "code",
      "metadata": {
        "id": "nyQ5xWl5-xbw",
        "outputId": "319c9765-9946-4ea8-82c4-f1ee812899d2",
        "colab": {
          "base_uri": "https://localhost:8080/",
          "height": 298
        }
      },
      "source": [
        "# PLOT CORRELATION MATRIX OF CLEAN DATA WITH HEATMAP\n",
        "# drop rows with value None\n",
        "clean_df = clean_df.dropna()\n",
        "\n",
        "# create correlation matrix\n",
        "corrMatrix = clean_df.corr()\n",
        "\n",
        "# create upper triangle mask\n",
        "mask = np.triu(np.ones_like(corrMatrix) )\n",
        "\n",
        "# # plot correlation matrix with heatmap()\n",
        "sns.heatmap(corrMatrix, annot=True, mask=mask, linewidths=.5, square=True, center = 0, fmt='0.1f', vmax= .3)\n",
        "sns.set(font_scale=0.6)\n",
        "plt.show()"
      ],
      "execution_count": 14,
      "outputs": [
        {
          "output_type": "display_data",
          "data": {
            "image/png": "[encoded data removed]",
            "text/plain": [
              "<Figure size 432x288 with 2 Axes>"
            ]
          },
          "metadata": {
            "tags": []
          }
        }
      ]
    }
  ]
}