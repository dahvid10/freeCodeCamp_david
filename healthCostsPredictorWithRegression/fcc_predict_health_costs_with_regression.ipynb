{
  "nbformat": 4,
  "nbformat_minor": 2,
  "metadata": {
    "colab": {
      "name": "fcc_predict_health_costs_with_regression.ipynb",
      "provenance": [],
      "collapsed_sections": []
    },
    "kernelspec": {
      "name": "python3",
      "display_name": "Python 3.9.4 64-bit"
    },
    "accelerator": "GPU",
    "language_info": {
      "name": "python",
      "version": "3.9.4",
      "mimetype": "text/x-python",
      "codemirror_mode": {
        "name": "ipython",
        "version": 3
      },
      "pygments_lexer": "ipython3",
      "nbconvert_exporter": "python",
      "file_extension": ".py"
    },
    "interpreter": {
      "hash": "63fd5069d213b44bf678585dea6b12cceca9941eaf7f819626cde1f2670de90d"
    }
  },
  "cells": [
    {
      "cell_type": "markdown",
      "source": [
        "In this challenge, you will predict healthcare costs using a regression algorithm.\n",
        "\n",
        "You are given a dataset that contains information about different people including their healthcare costs. Use the data to predict healthcare costs based on new data.\n",
        "\n",
        "The first two cells of this notebook import libraries and the data.\n",
        "\n",
        "Make sure to convert categorical data to numbers. Use 80% of the data as the `train_dataset` and 20% of the data as the `test_dataset`.\n",
        "\n",
        "`pop` off the \"expenses\" column from these datasets to create new datasets called `train_labels` and `test_labels`. Use these labels when training your model.\n",
        "\n",
        "Create a model and train it with the `train_dataset`. Run the final cell in this notebook to check your model. The final cell will use the unseen `test_dataset` to check how well the model generalizes.\n",
        "\n",
        "To pass the challenge, `model.evaluate` must return a Mean Absolute Error of under 3500. This means it predicts health care costs correctly within $3500.\n",
        "\n",
        "The final cell will also predict expenses using the `test_dataset` and graph the results."
      ],
      "metadata": {
        "id": "M9TX15KOkPBV"
      }
    },
    {
      "cell_type": "code",
      "execution_count": 234,
      "source": [
        "# Import libraries. You may or may not use all of these.\r\n",
        "!pip install -q git+https://github.com/tensorflow/docs\r\n",
        "import matplotlib.pyplot as plt\r\n",
        "%matplotlib notebook\r\n",
        "%matplotlib inline\r\n",
        "import numpy as np\r\n",
        "import pandas as pd\r\n",
        "\r\n",
        "try:\r\n",
        "  # %tensorflow_version only exists in Colab.\r\n",
        "  %tensorflow_version 2.x\r\n",
        "except Exception:\r\n",
        "  pass\r\n",
        "import tensorflow as tf\r\n",
        "\r\n",
        "from tensorflow import keras\r\n",
        "from tensorflow.keras import layers\r\n",
        "from tensorflow.keras.layers.experimental import preprocessing\r\n",
        "\r\n",
        "import tensorflow_docs as tfdocs\r\n",
        "import tensorflow_docs.plots\r\n",
        "import tensorflow_docs.modeling"
      ],
      "outputs": [],
      "metadata": {
        "id": "1rRo8oNqZ-Rj"
      }
    },
    {
      "cell_type": "code",
      "execution_count": 235,
      "source": [
        "# Import data\r\n",
        "!wget https://cdn.freecodecamp.org/project-data/health-costs/insurance.csv\r\n",
        "dataset = pd.read_csv('insurance.csv')\r\n",
        "dataset.tail()"
      ],
      "outputs": [
        {
          "output_type": "stream",
          "name": "stdout",
          "text": [
            "--2021-08-12 04:44:03--  https://cdn.freecodecamp.org/project-data/health-costs/insurance.csv\n",
            "Resolving cdn.freecodecamp.org (cdn.freecodecamp.org)... 172.67.70.149, 104.26.3.33, 104.26.2.33, ...\n",
            "Connecting to cdn.freecodecamp.org (cdn.freecodecamp.org)|172.67.70.149|:443... connected.\n",
            "HTTP request sent, awaiting response... 200 OK\n",
            "Length: 50264 (49K) [text/csv]\n",
            "Saving to: ‘insurance.csv.8’\n",
            "\n",
            "\rinsurance.csv.8       0%[                    ]       0  --.-KB/s               \rinsurance.csv.8     100%[===================>]  49.09K  --.-KB/s    in 0.001s  \n",
            "\n",
            "2021-08-12 04:44:03 (43.9 MB/s) - ‘insurance.csv.8’ saved [50264/50264]\n",
            "\n"
          ]
        },
        {
          "output_type": "execute_result",
          "data": {
            "text/plain": [
              "      age     sex   bmi  children smoker     region  expenses\n",
              "1333   50    male  31.0         3     no  northwest  10600.55\n",
              "1334   18  female  31.9         0     no  northeast   2205.98\n",
              "1335   18  female  36.9         0     no  southeast   1629.83\n",
              "1336   21  female  25.8         0     no  southwest   2007.95\n",
              "1337   61  female  29.1         0    yes  northwest  29141.36"
            ],
            "text/html": [
              "<div>\n",
              "<style scoped>\n",
              "    .dataframe tbody tr th:only-of-type {\n",
              "        vertical-align: middle;\n",
              "    }\n",
              "\n",
              "    .dataframe tbody tr th {\n",
              "        vertical-align: top;\n",
              "    }\n",
              "\n",
              "    .dataframe thead th {\n",
              "        text-align: right;\n",
              "    }\n",
              "</style>\n",
              "<table border=\"1\" class=\"dataframe\">\n",
              "  <thead>\n",
              "    <tr style=\"text-align: right;\">\n",
              "      <th></th>\n",
              "      <th>age</th>\n",
              "      <th>sex</th>\n",
              "      <th>bmi</th>\n",
              "      <th>children</th>\n",
              "      <th>smoker</th>\n",
              "      <th>region</th>\n",
              "      <th>expenses</th>\n",
              "    </tr>\n",
              "  </thead>\n",
              "  <tbody>\n",
              "    <tr>\n",
              "      <th>1333</th>\n",
              "      <td>50</td>\n",
              "      <td>male</td>\n",
              "      <td>31.0</td>\n",
              "      <td>3</td>\n",
              "      <td>no</td>\n",
              "      <td>northwest</td>\n",
              "      <td>10600.55</td>\n",
              "    </tr>\n",
              "    <tr>\n",
              "      <th>1334</th>\n",
              "      <td>18</td>\n",
              "      <td>female</td>\n",
              "      <td>31.9</td>\n",
              "      <td>0</td>\n",
              "      <td>no</td>\n",
              "      <td>northeast</td>\n",
              "      <td>2205.98</td>\n",
              "    </tr>\n",
              "    <tr>\n",
              "      <th>1335</th>\n",
              "      <td>18</td>\n",
              "      <td>female</td>\n",
              "      <td>36.9</td>\n",
              "      <td>0</td>\n",
              "      <td>no</td>\n",
              "      <td>southeast</td>\n",
              "      <td>1629.83</td>\n",
              "    </tr>\n",
              "    <tr>\n",
              "      <th>1336</th>\n",
              "      <td>21</td>\n",
              "      <td>female</td>\n",
              "      <td>25.8</td>\n",
              "      <td>0</td>\n",
              "      <td>no</td>\n",
              "      <td>southwest</td>\n",
              "      <td>2007.95</td>\n",
              "    </tr>\n",
              "    <tr>\n",
              "      <th>1337</th>\n",
              "      <td>61</td>\n",
              "      <td>female</td>\n",
              "      <td>29.1</td>\n",
              "      <td>0</td>\n",
              "      <td>yes</td>\n",
              "      <td>northwest</td>\n",
              "      <td>29141.36</td>\n",
              "    </tr>\n",
              "  </tbody>\n",
              "</table>\n",
              "</div>"
            ]
          },
          "metadata": {
            "tags": []
          },
          "execution_count": 235
        }
      ],
      "metadata": {
        "id": "CiX2FI4gZtTt",
        "colab": {
          "base_uri": "https://localhost:8080/",
          "height": 420
        },
        "outputId": "0faf9bda-2031-49ef-c37e-b27532578ac0"
      }
    },
    {
      "cell_type": "code",
      "execution_count": 236,
      "source": [
        "# quantify categorical values: sex, region, and smoker\r\n",
        "\r\n",
        "# objects: hold assignments for unique sex, region, and smoker\r\n",
        "sex_map, region_map, smoker_map = {}, {}, {}\r\n",
        "\r\n",
        "# capture unique sex, region, and smoker\r\n",
        "sexes = dataset['sex'].unique()\r\n",
        "regions = dataset['region'].unique()\r\n",
        "smokers = dataset['smoker'].unique()\r\n",
        "\r\n",
        "# assign numbers to categorical values of sex, region, and smoker\r\n",
        "for sex in range(len(sexes)):\r\n",
        "  sex_map[sexes[sex]] = sex\r\n",
        "\r\n",
        "for region in range(len(regions)):\r\n",
        "  region_map[regions[region]] = region\r\n",
        "\r\n",
        "for smoker in range(len(smokers)):\r\n",
        "  smoker_map[smokers[smoker]] = smoker\r\n",
        "\r\n",
        "# region_map\r\n",
        "# sex_map\r\n",
        "\r\n",
        "# replace categorical values in data set\r\n",
        "dataset['sex'] = dataset['sex'].map(sex_map)\r\n",
        "dataset['region'] = dataset['region'].map(region_map)\r\n",
        "dataset['smoker'] = dataset['smoker'].map(smoker_map)\r\n",
        "dataset.tail()"
      ],
      "outputs": [
        {
          "output_type": "execute_result",
          "data": {
            "text/plain": [
              "      age  sex   bmi  children  smoker  region  expenses\n",
              "1333   50    1  31.0         3       1       2  10600.55\n",
              "1334   18    0  31.9         0       1       3   2205.98\n",
              "1335   18    0  36.9         0       1       1   1629.83\n",
              "1336   21    0  25.8         0       1       0   2007.95\n",
              "1337   61    0  29.1         0       0       2  29141.36"
            ],
            "text/html": [
              "<div>\n",
              "<style scoped>\n",
              "    .dataframe tbody tr th:only-of-type {\n",
              "        vertical-align: middle;\n",
              "    }\n",
              "\n",
              "    .dataframe tbody tr th {\n",
              "        vertical-align: top;\n",
              "    }\n",
              "\n",
              "    .dataframe thead th {\n",
              "        text-align: right;\n",
              "    }\n",
              "</style>\n",
              "<table border=\"1\" class=\"dataframe\">\n",
              "  <thead>\n",
              "    <tr style=\"text-align: right;\">\n",
              "      <th></th>\n",
              "      <th>age</th>\n",
              "      <th>sex</th>\n",
              "      <th>bmi</th>\n",
              "      <th>children</th>\n",
              "      <th>smoker</th>\n",
              "      <th>region</th>\n",
              "      <th>expenses</th>\n",
              "    </tr>\n",
              "  </thead>\n",
              "  <tbody>\n",
              "    <tr>\n",
              "      <th>1333</th>\n",
              "      <td>50</td>\n",
              "      <td>1</td>\n",
              "      <td>31.0</td>\n",
              "      <td>3</td>\n",
              "      <td>1</td>\n",
              "      <td>2</td>\n",
              "      <td>10600.55</td>\n",
              "    </tr>\n",
              "    <tr>\n",
              "      <th>1334</th>\n",
              "      <td>18</td>\n",
              "      <td>0</td>\n",
              "      <td>31.9</td>\n",
              "      <td>0</td>\n",
              "      <td>1</td>\n",
              "      <td>3</td>\n",
              "      <td>2205.98</td>\n",
              "    </tr>\n",
              "    <tr>\n",
              "      <th>1335</th>\n",
              "      <td>18</td>\n",
              "      <td>0</td>\n",
              "      <td>36.9</td>\n",
              "      <td>0</td>\n",
              "      <td>1</td>\n",
              "      <td>1</td>\n",
              "      <td>1629.83</td>\n",
              "    </tr>\n",
              "    <tr>\n",
              "      <th>1336</th>\n",
              "      <td>21</td>\n",
              "      <td>0</td>\n",
              "      <td>25.8</td>\n",
              "      <td>0</td>\n",
              "      <td>1</td>\n",
              "      <td>0</td>\n",
              "      <td>2007.95</td>\n",
              "    </tr>\n",
              "    <tr>\n",
              "      <th>1337</th>\n",
              "      <td>61</td>\n",
              "      <td>0</td>\n",
              "      <td>29.1</td>\n",
              "      <td>0</td>\n",
              "      <td>0</td>\n",
              "      <td>2</td>\n",
              "      <td>29141.36</td>\n",
              "    </tr>\n",
              "  </tbody>\n",
              "</table>\n",
              "</div>"
            ]
          },
          "metadata": {
            "tags": []
          },
          "execution_count": 236
        }
      ],
      "metadata": {
        "colab": {
          "base_uri": "https://localhost:8080/",
          "height": 204
        },
        "id": "SCxwq0P03L6U",
        "outputId": "022fa4cb-ab3f-4f66-be4f-1ea3cdf0cbac"
      }
    },
    {
      "cell_type": "code",
      "execution_count": null,
      "source": [
        "# outliers\r\n",
        "\r\n",
        "# calculate summary statistics\r\n",
        "data_mean, data_std = np.mean(dataset), np.std(dataset)\r\n",
        "# identify outliers\r\n",
        "# set cut off at std * 3\r\n",
        "cut_off = data_std * 3\r\n",
        "# change all expenses that are higher \\\r\n",
        "# than the upper cutoff expense to be the average expense\r\n",
        "for expense in dataset['expenses']:\r\n",
        "  if(expense > upper['expenses']):\r\n",
        "    expense = data_mean['expenses']\r\n",
        "print(data_mean, '\\n', data_std)"
      ],
      "outputs": [],
      "metadata": {
        "colab": {
          "base_uri": "https://localhost:8080/"
        },
        "id": "o6JlF-1AmOMQ",
        "outputId": "a4ef0417-a31d-4330-b251-85a87869c16e"
      }
    },
    {
      "cell_type": "code",
      "execution_count": 238,
      "source": [
        "# clean data\r\n",
        "dataset.dropna()\r\n",
        "dataset.shape"
      ],
      "outputs": [
        {
          "output_type": "execute_result",
          "data": {
            "text/plain": [
              "(1338, 7)"
            ]
          },
          "metadata": {
            "tags": []
          },
          "execution_count": 238
        }
      ],
      "metadata": {
        "colab": {
          "base_uri": "https://localhost:8080/"
        },
        "id": "2bIDvCh5uWuE",
        "outputId": "df428d6f-747e-4256-dc30-1246842cd55a"
      }
    },
    {
      "cell_type": "code",
      "execution_count": 239,
      "source": [
        "# create training and test data set\r\n",
        "train_data = dataset.sample(frac=0.8)\r\n",
        "test_dataset = dataset.drop(train_data.index)\r\n",
        "train_data.shape, test_dataset.shape"
      ],
      "outputs": [
        {
          "output_type": "execute_result",
          "data": {
            "text/plain": [
              "((1070, 7), (268, 7))"
            ]
          },
          "metadata": {
            "tags": []
          },
          "execution_count": 239
        }
      ],
      "metadata": {
        "colab": {
          "base_uri": "https://localhost:8080/"
        },
        "id": "S4CHdTSbuxw4",
        "outputId": "4bb167ea-e2de-4566-d8ff-2a9a16b19638"
      }
    },
    {
      "cell_type": "code",
      "execution_count": 240,
      "source": [
        "# capture train_labels and test_labels\r\n",
        "train_features = train_data.copy()\r\n",
        "test_features = test_dataset.copy()\r\n",
        "\r\n",
        "train_labels = train_features.pop('expenses')\r\n",
        "test_labels = test_features.pop('expenses')\r\n",
        "print(train_features.shape)\r\n",
        "print(train_labels.shape)"
      ],
      "outputs": [
        {
          "output_type": "stream",
          "name": "stdout",
          "text": [
            "(1070, 6)\n",
            "(1070,)\n"
          ]
        }
      ],
      "metadata": {
        "colab": {
          "base_uri": "https://localhost:8080/"
        },
        "id": "JAPcLjAYwKyF",
        "outputId": "5bf1cc94-2b83-4034-f095-cc0ad39265ba"
      }
    },
    {
      "cell_type": "code",
      "execution_count": 241,
      "source": [
        "# plot training data\r\n",
        "fig = plt.figure()\r\n",
        "plt.scatter(train_data['age'], train_labels)\r\n",
        "plt.title('expenses vs age')\r\n",
        "plt.xlabel('age')\r\n",
        "plt.ylabel('expenses')\r\n",
        "m, b = np.polyfit(train_data['age'], train_labels, 1)\r\n",
        "plt.plot(train_data['age'], m*train_data['age'] + b, 'red')"
      ],
      "outputs": [
        {
          "output_type": "execute_result",
          "data": {
            "text/plain": [
              "[<matplotlib.lines.Line2D at 0x7febf6d04450>]"
            ]
          },
          "metadata": {
            "tags": []
          },
          "execution_count": 241
        },
        {
          "output_type": "display_data",
          "data": {
            "text/plain": [
              "<Figure size 432x288 with 1 Axes>"
            ],
            "image/png": "[encoded data removed]"
          },
          "metadata": {
            "tags": [],
            "needs_background": "light"
          }
        }
      ],
      "metadata": {
        "colab": {
          "base_uri": "https://localhost:8080/",
          "height": 312
        },
        "id": "TcoPUe9GzGek",
        "outputId": "46652c94-6798-4b8a-dff0-4c50725fcac6"
      }
    },
    {
      "cell_type": "code",
      "execution_count": 258,
      "source": [
        "# Normalize data\r\n",
        "\r\n",
        "# print(train_data.describe().transpose()[['mean', 'std']], '\\n')\r\n",
        "\r\n",
        "# Normalization layer\r\n",
        "# coerces inputs into a distribution centered around 0 with std 1 \\\r\n",
        "# by precomputing the mean and variance of the data and calling \\\r\n",
        "# (input-mean)/sqrt(var) at runtime\r\n",
        "normalizer = preprocessing.Normalization()\r\n",
        "\r\n",
        "# adapt normalization layer to data\r\n",
        "# compute mean and variance of data and store them as layer's weights\r\n",
        "normalizer.adapt(np.array(train_features))\r\n",
        "\r\n",
        "# sequential model\r\n",
        "# # Regression\r\n",
        "# # 1. Normalize the input 'bmi'\r\n",
        "# # 2. Apply a linear transformation (y = m*x + b) to produce 1 output \\\r\n",
        "# # using layers.Dense\r\n",
        "model = keras.models.Sequential([\r\n",
        "  normalizer, # normalization layer\r\n",
        "  layers.Dense(units=1) # Linear Regression model\r\n",
        "])\r\n",
        "\r\n",
        "# loss and optimizer\r\n",
        "loss = keras.losses.MeanAbsoluteError()\r\n",
        "optim = keras.optimizers.Adam(learning_rate = 25)\r\n",
        "\r\n",
        "# single_feature_model.compile(optimizer=optim, loss=loss, metrics=['mse'])\r\n",
        "model.compile(optimizer=optim, loss=loss)\r\n",
        "\r\n",
        "history = model.fit(\r\n",
        "    train_features, train_labels, \r\n",
        "    epochs=400,\r\n",
        "    verbose=0,\r\n",
        "    # calculate validation results on 20% of training data\r\n",
        "    validation_split=0.2\r\n",
        ")\r\n",
        "\r\n",
        "# plot loss\r\n",
        "def plot_loss(history):\r\n",
        "    plt.plot(history.history['loss'], label='loss')\r\n",
        "    plt.plot(history.history['val_loss'], label='val_loss')\r\n",
        "    plt.ylim([0, 15000])\r\n",
        "    plt.xlabel('Epoch')\r\n",
        "    plt.ylabel('Error [Expenses($)]')\r\n",
        "    plt.legend()\r\n",
        "    plt.grid(True)\r\n",
        "\r\n",
        "plot_loss(history)"
      ],
      "outputs": [
        {
          "output_type": "display_data",
          "data": {
            "text/plain": [
              "<Figure size 432x288 with 1 Axes>"
            ],
            "image/png": "[encoded data removed]"
          },
          "metadata": {
            "tags": [],
            "needs_background": "light"
          }
        }
      ],
      "metadata": {
        "colab": {
          "base_uri": "https://localhost:8080/",
          "height": 279
        },
        "id": "_4MLbazCb-pJ",
        "outputId": "6b4bf213-da6f-4665-aba8-f2402c656d98"
      }
    },
    {
      "cell_type": "code",
      "execution_count": 253,
      "source": [
        "m = model.evaluate(\r\n",
        "    test_features,\r\n",
        "    test_labels, verbose=2\r\n",
        ")"
      ],
      "outputs": [
        {
          "output_type": "stream",
          "name": "stdout",
          "text": [
            "9/9 - 0s - loss: 3153.7520\n"
          ]
        }
      ],
      "metadata": {
        "id": "5OUTe58r9_kj",
        "colab": {
          "base_uri": "https://localhost:8080/"
        },
        "outputId": "c0e070cb-7ae5-4c4b-cc60-1aaa19682d46"
      }
    },
    {
      "cell_type": "code",
      "execution_count": 269,
      "source": [
        "# RUN THIS CELL TO TEST YOUR MODEL. DO NOT MODIFY CONTENTS.\r\n",
        "# Test model by checking how well the model generalizes using the test set.\r\n",
        "\r\n",
        "mae = model.evaluate(test_features, test_labels, verbose=2)\r\n",
        "\r\n",
        "print(\"Testing set Mean Abs Error: ${:5.2f} expenses\".format(mae))\r\n",
        "\r\n",
        "if mae < 3500:\r\n",
        "  print(\"You passed the challenge. Great job!\")\r\n",
        "else:\r\n",
        "  print(\"The Mean Abs Error must be less than 3500. Keep trying.\")\r\n",
        "\r\n",
        "# Plot predictions\r\n",
        "test_dataset.pop('expenses')\r\n",
        "test_predictions = model.predict(test_dataset).flatten()\r\n",
        "a = plt.axes(aspect='equal')\r\n",
        "plt.scatter(test_labels, test_predictions)\r\n",
        "plt.xlabel('True values (expenses)')\r\n",
        "plt.ylabel('Predictions (expenses)')\r\n",
        "lims = [0, 50000]\r\n",
        "plt.xlim(lims)\r\n",
        "plt.ylim(lims)\r\n",
        "_ = plt.plot(lims,lims)\r\n"
      ],
      "outputs": [
        {
          "output_type": "stream",
          "name": "stdout",
          "text": [
            "9/9 - 0s - loss: 3147.3945\n",
            "Testing set Mean Abs Error: $3147.39 expenses\n",
            "You passed the challenge. Great job!\n"
          ]
        },
        {
          "output_type": "display_data",
          "data": {
            "text/plain": [
              "<Figure size 432x288 with 1 Axes>"
            ],
            "image/png": "[encoded data removed]"
          },
          "metadata": {
            "tags": [],
            "needs_background": "light"
          }
        }
      ],
      "metadata": {
        "id": "Xe7RXH3N3CWU",
        "colab": {
          "base_uri": "https://localhost:8080/",
          "height": 336
        },
        "outputId": "d2404211-be64-4528-9330-79502de3e203"
      }
    }
  ]
}